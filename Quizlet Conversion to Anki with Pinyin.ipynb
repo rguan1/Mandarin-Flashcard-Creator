{
 "cells": [
  {
   "cell_type": "code",
   "execution_count": 6,
   "id": "dependent-lesbian",
   "metadata": {
    "ExecuteTime": {
     "end_time": "2022-02-11T04:11:20.321911Z",
     "start_time": "2022-02-11T04:11:20.317141Z"
    }
   },
   "outputs": [],
   "source": [
    "import cedict_parser\n",
    "import pinyin_converter\n",
    "from pinyin_converter import decode_pinyin\n",
    "import pandas as pd\n",
    "import re"
   ]
  },
  {
   "cell_type": "code",
   "execution_count": null,
   "id": "parliamentary-pencil",
   "metadata": {
    "ExecuteTime": {
     "start_time": "2022-02-11T04:11:20.746Z"
    }
   },
   "outputs": [],
   "source": [
    "# create the dictionary\n",
    "cedict = cedict_parser.simplified_to_pinyin_english()"
   ]
  },
  {
   "cell_type": "code",
   "execution_count": null,
   "id": "palestinian-brown",
   "metadata": {
    "ExecuteTime": {
     "start_time": "2022-02-11T04:11:21.178Z"
    }
   },
   "outputs": [],
   "source": [
    "def characters_to_pinyin(characters):\n",
    "    #strip [] and ()\n",
    "    clean_characters = re.sub(r'[(（）)]', '', characters)\n",
    "    \n",
    "    #check if phrase is in dictionary\n",
    "    if clean_characters in cedict:\n",
    "        return check_multiple_defs(cedict[clean_characters], clean_characters, characters)\n",
    "    else:\n",
    "        #phrase not in dictionary so brute force it with original characters\n",
    "        return characters_to_pinyin_by_each_character(characters)\n",
    "\n",
    "def check_multiple_defs(mdefs, searched_chars, orig_characters):\n",
    "    all_pinyins_numbered = sorted(list(set(list(map(lambda sdef: sdef.pinyin.lower(), mdefs)))))\n",
    "    all_pinyins = list(map(lambda p: decode_pinyin(p), all_pinyins_numbered))\n",
    "    if len(all_pinyins) == 1:\n",
    "        #only one result so print that\n",
    "        spinyin = all_pinyins[0]\n",
    "    else:\n",
    "        #print all pinyins and all caps tell user to pick\n",
    "\n",
    "        all_pinyins_str = \", \".join(all_pinyins)\n",
    "\n",
    "        print(\"You can use numerical order starting from 1 to indicate choice\")\n",
    "        print(f\"For {searched_chars} in '{orig_characters}', which pinyin: {all_pinyins_str}\")\n",
    "        pinyin_choice = all_pinyins[int(input()) - 1]\n",
    "\n",
    "        spinyin = pinyin_choice\n",
    "    return spinyin\n",
    "    \n",
    "    \n",
    "\n",
    "def characters_to_pinyin_by_each_character(characters):\n",
    "    \n",
    "    pinyin_equivalent = \"\"\n",
    "    for schar in characters:\n",
    "        if schar in cedict:\n",
    "            spinyin = check_multiple_defs(cedict[schar], schar, characters)\n",
    "            \n",
    "            pinyin_equivalent += spinyin\n",
    "        else:\n",
    "            # presumably it is a non chinese character\n",
    "            pinyin_equivalent += schar\n",
    "            \n",
    "    return pinyin_equivalent\n",
    "    "
   ]
  },
  {
   "cell_type": "code",
   "execution_count": null,
   "id": "functioning-dancing",
   "metadata": {
    "ExecuteTime": {
     "start_time": "2022-02-11T04:11:21.906Z"
    }
   },
   "outputs": [],
   "source": [
    "quizlet_txt = pd.read_csv(\"./quizlet_txt/chp10.txt\", sep=\"\\t\", header=None)\n",
    "quizlet_txt.columns = [\"characters\", \"english\"]"
   ]
  },
  {
   "cell_type": "code",
   "execution_count": null,
   "id": "religious-effect",
   "metadata": {
    "ExecuteTime": {
     "start_time": "2022-02-11T04:11:22.439Z"
    }
   },
   "outputs": [],
   "source": [
    "# using apply function to create a new column\n",
    "quizlet_txt[\"pinyin\"] = quizlet_txt.apply(lambda row: characters_to_pinyin(row.characters), axis = 1)\n",
    "\n",
    "quizlet_txt"
   ]
  },
  {
   "cell_type": "code",
   "execution_count": null,
   "id": "stuck-pulse",
   "metadata": {
    "ExecuteTime": {
     "end_time": "2022-02-11T03:56:50.692809Z",
     "start_time": "2022-02-11T03:56:50.687750Z"
    }
   },
   "outputs": [],
   "source": [
    "blah = '（头)发'\n",
    "\n",
    "cc = re.sub(r'[()]', '', blah)"
   ]
  },
  {
   "cell_type": "code",
   "execution_count": null,
   "id": "bridal-geology",
   "metadata": {
    "ExecuteTime": {
     "end_time": "2022-02-11T03:54:32.106589Z",
     "start_time": "2022-02-11T03:54:32.092912Z"
    }
   },
   "outputs": [],
   "source": [
    "'头发' in cedict"
   ]
  },
  {
   "cell_type": "code",
   "execution_count": null,
   "id": "minor-introduction",
   "metadata": {
    "ExecuteTime": {
     "end_time": "2022-02-11T02:23:29.734844Z",
     "start_time": "2022-02-11T02:23:29.727632Z"
    }
   },
   "outputs": [],
   "source": []
  },
  {
   "cell_type": "code",
   "execution_count": null,
   "id": "middle-annex",
   "metadata": {
    "ExecuteTime": {
     "end_time": "2022-02-11T02:23:32.075931Z",
     "start_time": "2022-02-11T02:23:32.070434Z"
    }
   },
   "outputs": [],
   "source": []
  },
  {
   "cell_type": "code",
   "execution_count": null,
   "id": "cultural-protocol",
   "metadata": {
    "ExecuteTime": {
     "end_time": "2022-02-11T02:23:34.355744Z",
     "start_time": "2022-02-11T02:23:34.349133Z"
    }
   },
   "outputs": [],
   "source": []
  },
  {
   "cell_type": "code",
   "execution_count": null,
   "id": "velvet-welding",
   "metadata": {
    "ExecuteTime": {
     "end_time": "2022-02-11T02:24:13.722655Z",
     "start_time": "2022-02-11T02:24:13.717251Z"
    }
   },
   "outputs": [],
   "source": []
  },
  {
   "cell_type": "code",
   "execution_count": null,
   "id": "trying-england",
   "metadata": {
    "ExecuteTime": {
     "end_time": "2022-02-11T02:24:52.978262Z",
     "start_time": "2022-02-11T02:24:52.973619Z"
    }
   },
   "outputs": [],
   "source": []
  },
  {
   "cell_type": "code",
   "execution_count": null,
   "id": "finished-preference",
   "metadata": {},
   "outputs": [],
   "source": []
  }
 ],
 "metadata": {
  "kernelspec": {
   "display_name": "Python [conda env:phys260] *",
   "language": "python",
   "name": "conda-env-phys260-py"
  },
  "language_info": {
   "codemirror_mode": {
    "name": "ipython",
    "version": 3
   },
   "file_extension": ".py",
   "mimetype": "text/x-python",
   "name": "python",
   "nbconvert_exporter": "python",
   "pygments_lexer": "ipython3",
   "version": "3.6.12"
  },
  "toc": {
   "base_numbering": 1,
   "nav_menu": {},
   "number_sections": true,
   "sideBar": true,
   "skip_h1_title": false,
   "title_cell": "Table of Contents",
   "title_sidebar": "Contents",
   "toc_cell": false,
   "toc_position": {},
   "toc_section_display": true,
   "toc_window_display": false
  },
  "varInspector": {
   "cols": {
    "lenName": 16,
    "lenType": 16,
    "lenVar": 40
   },
   "kernels_config": {
    "python": {
     "delete_cmd_postfix": "",
     "delete_cmd_prefix": "del ",
     "library": "var_list.py",
     "varRefreshCmd": "print(var_dic_list())"
    },
    "r": {
     "delete_cmd_postfix": ") ",
     "delete_cmd_prefix": "rm(",
     "library": "var_list.r",
     "varRefreshCmd": "cat(var_dic_list()) "
    }
   },
   "types_to_exclude": [
    "module",
    "function",
    "builtin_function_or_method",
    "instance",
    "_Feature"
   ],
   "window_display": false
  }
 },
 "nbformat": 4,
 "nbformat_minor": 5
}
