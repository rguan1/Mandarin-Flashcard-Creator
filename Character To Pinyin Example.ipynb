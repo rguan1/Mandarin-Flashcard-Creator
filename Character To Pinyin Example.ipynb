{
 "cells": [
  {
   "cell_type": "code",
   "execution_count": 31,
   "id": "limiting-sunday",
   "metadata": {
    "ExecuteTime": {
     "end_time": "2022-02-11T02:47:48.043238Z",
     "start_time": "2022-02-11T02:47:47.900053Z"
    }
   },
   "outputs": [
    {
     "name": "stdout",
     "output_type": "stream",
     "text": [
      "The autoreload extension is already loaded. To reload it, use:\n",
      "  %reload_ext autoreload\n"
     ]
    }
   ],
   "source": [
    "%load_ext autoreload\n",
    "%autoreload 2\n",
    "import cedict_parser\n",
    "import pinyin_converter\n"
   ]
  },
  {
   "cell_type": "code",
   "execution_count": 32,
   "id": "banned-chick",
   "metadata": {
    "ExecuteTime": {
     "end_time": "2022-02-11T02:47:53.604275Z",
     "start_time": "2022-02-11T02:47:52.663808Z"
    }
   },
   "outputs": [
    {
     "name": "stdout",
     "output_type": "stream",
     "text": [
      "Parsing dictionary . . .\n",
      "Removing Surnames . . .\n"
     ]
    }
   ],
   "source": [
    "cedict_dict= cedict_parser.simplified_to_pinyin_english()"
   ]
  },
  {
   "cell_type": "code",
   "execution_count": 34,
   "id": "phantom-deficit",
   "metadata": {
    "ExecuteTime": {
     "end_time": "2022-02-11T02:48:03.219219Z",
     "start_time": "2022-02-11T02:48:03.203126Z"
    }
   },
   "outputs": [
    {
     "data": {
      "text/plain": [
       "[Pinyin_English(pinyin='de2', en='to obtain'),\n",
       " Pinyin_English(pinyin='de5', en='structural particle: used after a verb (or adjective as main verb), linking it to following phrase indicating effect, degree, possibility etc'),\n",
       " Pinyin_English(pinyin='dei3', en='to have to')]"
      ]
     },
     "execution_count": 34,
     "metadata": {},
     "output_type": "execute_result"
    }
   ],
   "source": [
    "cedict_dict[\"得\"]"
   ]
  },
  {
   "cell_type": "code",
   "execution_count": 14,
   "id": "cutting-warrant",
   "metadata": {
    "ExecuteTime": {
     "end_time": "2022-02-11T01:52:54.404856Z",
     "start_time": "2022-02-11T01:52:54.386722Z"
    }
   },
   "outputs": [
    {
     "name": "stdout",
     "output_type": "stream",
     "text": [
      "nǐ\n",
      "you (informal, as opposed to courteous 您[nin2])\n"
     ]
    }
   ],
   "source": [
    "print(pinyin_converter.decode_pinyin(cedict_dict[\"你\"].pinyin))\n",
    "print(cedict_dict[\"你\"].en)\n"
   ]
  },
  {
   "cell_type": "code",
   "execution_count": 15,
   "id": "unavailable-salem",
   "metadata": {
    "ExecuteTime": {
     "end_time": "2022-02-11T02:36:17.836754Z",
     "start_time": "2022-02-11T02:36:17.813907Z"
    }
   },
   "outputs": [
    {
     "data": {
      "text/plain": [
       "'de'"
      ]
     },
     "execution_count": 15,
     "metadata": {},
     "output_type": "execute_result"
    }
   ],
   "source": [
    "pinyin_converter.decode_pinyin(\"de5\")"
   ]
  },
  {
   "cell_type": "code",
   "execution_count": 17,
   "id": "olympic-northeast",
   "metadata": {
    "ExecuteTime": {
     "end_time": "2022-02-11T02:38:23.548234Z",
     "start_time": "2022-02-11T02:38:22.962247Z"
    }
   },
   "outputs": [
    {
     "name": "stdout",
     "output_type": "stream",
     "text": [
      "Parsing dictionary . . .\n",
      "Removing Surnames . . .\n"
     ]
    }
   ],
   "source": [
    "l = cedict_parser.main()"
   ]
  },
  {
   "cell_type": "code",
   "execution_count": 20,
   "id": "induced-spotlight",
   "metadata": {
    "ExecuteTime": {
     "end_time": "2022-02-11T02:41:16.802562Z",
     "start_time": "2022-02-11T02:41:16.784394Z"
    }
   },
   "outputs": [],
   "source": [
    "def dup_simplified_de_dei(sdef):\n",
    "    if sdef.simplified == '得':\n",
    "        return True\n",
    "    else:\n",
    "        False\n",
    "    "
   ]
  },
  {
   "cell_type": "code",
   "execution_count": 27,
   "id": "usual-testimony",
   "metadata": {
    "ExecuteTime": {
     "end_time": "2022-02-11T02:43:30.948473Z",
     "start_time": "2022-02-11T02:43:30.931643Z"
    }
   },
   "outputs": [],
   "source": [
    "fl = filter(lambda sdef: sdef[\"simplified\"] == '得',l)"
   ]
  },
  {
   "cell_type": "code",
   "execution_count": 28,
   "id": "identified-width",
   "metadata": {
    "ExecuteTime": {
     "end_time": "2022-02-11T02:43:35.478801Z",
     "start_time": "2022-02-11T02:43:35.428877Z"
    }
   },
   "outputs": [
    {
     "name": "stdout",
     "output_type": "stream",
     "text": [
      "[{'traditional': '得', 'simplified': '得', 'pinyin': 'de2', 'english': 'to obtain'}, {'traditional': '得', 'simplified': '得', 'pinyin': 'de5', 'english': 'structural particle: used after a verb (or adjective as main verb), linking it to following phrase indicating effect, degree, possibility etc'}, {'traditional': '得', 'simplified': '得', 'pinyin': 'dei3', 'english': 'to have to'}, {'traditional': '得', 'simplified': '得', 'pinyin': 'de2', 'english': 'to obtain'}, {'traditional': '得', 'simplified': '得', 'pinyin': 'de5', 'english': 'structural particle: used after a verb (or adjective as main verb), linking it to following phrase indicating effect, degree, possibility etc'}, {'traditional': '得', 'simplified': '得', 'pinyin': 'dei3', 'english': 'to have to'}]\n"
     ]
    }
   ],
   "source": [
    "print(list(fl))"
   ]
  },
  {
   "cell_type": "code",
   "execution_count": 26,
   "id": "remarkable-emission",
   "metadata": {
    "ExecuteTime": {
     "end_time": "2022-02-11T02:42:35.026439Z",
     "start_time": "2022-02-11T02:42:35.007809Z"
    }
   },
   "outputs": [
    {
     "name": "stdout",
     "output_type": "stream",
     "text": [
      "[1, 3, 5, 13]\n"
     ]
    }
   ],
   "source": [
    "# a list contains both even and odd numbers. \n",
    "seq = [0, 1, 2, 3, 5, 8, 13]\n",
    "  \n",
    "# result contains odd numbers of the list\n",
    "result = filter(lambda x: x % 2 != 0, seq)\n",
    "print(list(result))"
   ]
  },
  {
   "cell_type": "code",
   "execution_count": null,
   "id": "continuing-professional",
   "metadata": {},
   "outputs": [],
   "source": []
  }
 ],
 "metadata": {
  "kernelspec": {
   "display_name": "Python 3.6.12 64-bit ('phys260': conda)",
   "language": "python",
   "name": "python3612jvsc74a57bd0a13e720a8b00c081b4b0940aae09af47b8a06ae25dd28aab512555b3a9845d8e"
  },
  "language_info": {
   "codemirror_mode": {
    "name": "ipython",
    "version": 3
   },
   "file_extension": ".py",
   "mimetype": "text/x-python",
   "name": "python",
   "nbconvert_exporter": "python",
   "pygments_lexer": "ipython3",
   "version": "3.6.12"
  },
  "toc": {
   "base_numbering": 1,
   "nav_menu": {},
   "number_sections": true,
   "sideBar": true,
   "skip_h1_title": false,
   "title_cell": "Table of Contents",
   "title_sidebar": "Contents",
   "toc_cell": false,
   "toc_position": {},
   "toc_section_display": true,
   "toc_window_display": false
  },
  "varInspector": {
   "cols": {
    "lenName": 16,
    "lenType": 16,
    "lenVar": 40
   },
   "kernels_config": {
    "python": {
     "delete_cmd_postfix": "",
     "delete_cmd_prefix": "del ",
     "library": "var_list.py",
     "varRefreshCmd": "print(var_dic_list())"
    },
    "r": {
     "delete_cmd_postfix": ") ",
     "delete_cmd_prefix": "rm(",
     "library": "var_list.r",
     "varRefreshCmd": "cat(var_dic_list()) "
    }
   },
   "types_to_exclude": [
    "module",
    "function",
    "builtin_function_or_method",
    "instance",
    "_Feature"
   ],
   "window_display": false
  }
 },
 "nbformat": 4,
 "nbformat_minor": 5
}
