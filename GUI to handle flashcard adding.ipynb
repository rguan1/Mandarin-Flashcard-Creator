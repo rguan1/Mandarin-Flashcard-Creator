{
 "cells": [
  {
   "cell_type": "code",
   "execution_count": 3,
   "id": "extraordinary-synthetic",
   "metadata": {
    "ExecuteTime": {
     "end_time": "2022-02-11T17:32:06.374781Z",
     "start_time": "2022-02-11T17:32:06.370887Z"
    }
   },
   "outputs": [],
   "source": [
    "import flashcard_add_pinyin"
   ]
  },
  {
   "cell_type": "code",
   "execution_count": 4,
   "id": "apparent-personality",
   "metadata": {
    "ExecuteTime": {
     "end_time": "2022-02-11T17:32:51.484421Z",
     "start_time": "2022-02-11T17:32:07.692247Z"
    }
   },
   "outputs": [
    {
     "name": "stdout",
     "output_type": "stream",
     "text": [
      "You can use numerical order starting from 1 to indicate choice\n",
      "For 好 in '好', which pinyin: hǎo, hào\n",
      "1\n",
      "You can use numerical order starting from 1 to indicate choice\n",
      "For 呢 in '呢', which pinyin: ne, ní\n",
      "1\n",
      "You can use numerical order starting from 1 to indicate choice\n",
      "For 吗 in '吗', which pinyin: mǎ, ma\n",
      "2\n"
     ]
    }
   ],
   "source": [
    "flashcard_add_pinyin.add_pinyin_to_list('quizlet_txt/chp1_IC.txt', 'quizlet_txt/chp1_IC_anki.csv')"
   ]
  },
  {
   "cell_type": "code",
   "execution_count": null,
   "id": "israeli-tractor",
   "metadata": {},
   "outputs": [],
   "source": []
  }
 ],
 "metadata": {
  "kernelspec": {
   "display_name": "Python 3.6.12 64-bit ('phys260': conda)",
   "language": "python",
   "name": "python3612jvsc74a57bd0a13e720a8b00c081b4b0940aae09af47b8a06ae25dd28aab512555b3a9845d8e"
  },
  "language_info": {
   "codemirror_mode": {
    "name": "ipython",
    "version": 3
   },
   "file_extension": ".py",
   "mimetype": "text/x-python",
   "name": "python",
   "nbconvert_exporter": "python",
   "pygments_lexer": "ipython3",
   "version": "3.6.12"
  },
  "toc": {
   "base_numbering": 1,
   "nav_menu": {},
   "number_sections": true,
   "sideBar": true,
   "skip_h1_title": false,
   "title_cell": "Table of Contents",
   "title_sidebar": "Contents",
   "toc_cell": false,
   "toc_position": {},
   "toc_section_display": true,
   "toc_window_display": false
  },
  "varInspector": {
   "cols": {
    "lenName": 16,
    "lenType": 16,
    "lenVar": 40
   },
   "kernels_config": {
    "python": {
     "delete_cmd_postfix": "",
     "delete_cmd_prefix": "del ",
     "library": "var_list.py",
     "varRefreshCmd": "print(var_dic_list())"
    },
    "r": {
     "delete_cmd_postfix": ") ",
     "delete_cmd_prefix": "rm(",
     "library": "var_list.r",
     "varRefreshCmd": "cat(var_dic_list()) "
    }
   },
   "types_to_exclude": [
    "module",
    "function",
    "builtin_function_or_method",
    "instance",
    "_Feature"
   ],
   "window_display": false
  }
 },
 "nbformat": 4,
 "nbformat_minor": 5
}
