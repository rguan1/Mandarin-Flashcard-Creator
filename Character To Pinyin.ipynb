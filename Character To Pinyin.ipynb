{
 "cells": [
  {
   "cell_type": "code",
   "execution_count": 10,
   "id": "limiting-sunday",
   "metadata": {
    "ExecuteTime": {
     "end_time": "2022-02-11T01:52:20.381491Z",
     "start_time": "2022-02-11T01:52:20.259479Z"
    }
   },
   "outputs": [
    {
     "name": "stdout",
     "output_type": "stream",
     "text": [
      "The autoreload extension is already loaded. To reload it, use:\n",
      "  %reload_ext autoreload\n"
     ]
    }
   ],
   "source": [
    "%load_ext autoreload\n",
    "%autoreload 2\n",
    "import cedict_parser\n",
    "import pinyin_converter\n"
   ]
  },
  {
   "cell_type": "code",
   "execution_count": 11,
   "id": "banned-chick",
   "metadata": {
    "ExecuteTime": {
     "end_time": "2022-02-11T01:52:21.804721Z",
     "start_time": "2022-02-11T01:52:21.269984Z"
    }
   },
   "outputs": [
    {
     "name": "stdout",
     "output_type": "stream",
     "text": [
      "Parsing dictionary . . .\n",
      "Removing Surnames . . .\n"
     ]
    }
   ],
   "source": [
    "cedict_dict= cedict_parser.simplified_to_pinyin_english()"
   ]
  },
  {
   "cell_type": "code",
   "execution_count": 12,
   "id": "phantom-deficit",
   "metadata": {
    "ExecuteTime": {
     "end_time": "2022-02-11T01:52:23.312875Z",
     "start_time": "2022-02-11T01:52:23.293587Z"
    }
   },
   "outputs": [
    {
     "data": {
      "text/plain": [
       "Pinyin_English(pinyin='ni3', en='you (informal, as opposed to courteous 您[nin2])')"
      ]
     },
     "execution_count": 12,
     "metadata": {},
     "output_type": "execute_result"
    }
   ],
   "source": [
    "cedict_dict[\"你\"]"
   ]
  },
  {
   "cell_type": "code",
   "execution_count": 14,
   "id": "cutting-warrant",
   "metadata": {
    "ExecuteTime": {
     "end_time": "2022-02-11T01:52:54.404856Z",
     "start_time": "2022-02-11T01:52:54.386722Z"
    }
   },
   "outputs": [
    {
     "name": "stdout",
     "output_type": "stream",
     "text": [
      "nǐ\n",
      "you (informal, as opposed to courteous 您[nin2])\n"
     ]
    }
   ],
   "source": [
    "print(pinyin_converter.decode_pinyin(cedict_dict[\"你\"].pinyin))\n",
    "print(cedict_dict[\"你\"].en)\n"
   ]
  },
  {
   "cell_type": "code",
   "execution_count": null,
   "id": "unavailable-salem",
   "metadata": {
    "ExecuteTime": {
     "end_time": "2022-02-11T01:02:59.144032Z",
     "start_time": "2022-02-11T01:02:59.136767Z"
    }
   },
   "outputs": [],
   "source": [
    "pinyin_converter.decode_pinyin(\"ni3 hao3\")"
   ]
  },
  {
   "cell_type": "code",
   "execution_count": null,
   "id": "olympic-northeast",
   "metadata": {
    "ExecuteTime": {
     "end_time": "2022-02-11T01:27:59.746502Z",
     "start_time": "2022-02-11T01:27:59.727490Z"
    }
   },
   "outputs": [],
   "source": []
  },
  {
   "cell_type": "code",
   "execution_count": null,
   "id": "usual-testimony",
   "metadata": {},
   "outputs": [],
   "source": []
  }
 ],
 "metadata": {
  "kernelspec": {
   "display_name": "Python 3.6.12 64-bit ('phys260': conda)",
   "language": "python",
   "name": "python3612jvsc74a57bd0a13e720a8b00c081b4b0940aae09af47b8a06ae25dd28aab512555b3a9845d8e"
  },
  "language_info": {
   "codemirror_mode": {
    "name": "ipython",
    "version": 3
   },
   "file_extension": ".py",
   "mimetype": "text/x-python",
   "name": "python",
   "nbconvert_exporter": "python",
   "pygments_lexer": "ipython3",
   "version": "3.6.12"
  },
  "toc": {
   "base_numbering": 1,
   "nav_menu": {},
   "number_sections": true,
   "sideBar": true,
   "skip_h1_title": false,
   "title_cell": "Table of Contents",
   "title_sidebar": "Contents",
   "toc_cell": false,
   "toc_position": {},
   "toc_section_display": true,
   "toc_window_display": false
  },
  "varInspector": {
   "cols": {
    "lenName": 16,
    "lenType": 16,
    "lenVar": 40
   },
   "kernels_config": {
    "python": {
     "delete_cmd_postfix": "",
     "delete_cmd_prefix": "del ",
     "library": "var_list.py",
     "varRefreshCmd": "print(var_dic_list())"
    },
    "r": {
     "delete_cmd_postfix": ") ",
     "delete_cmd_prefix": "rm(",
     "library": "var_list.r",
     "varRefreshCmd": "cat(var_dic_list()) "
    }
   },
   "types_to_exclude": [
    "module",
    "function",
    "builtin_function_or_method",
    "instance",
    "_Feature"
   ],
   "window_display": false
  }
 },
 "nbformat": 4,
 "nbformat_minor": 5
}
